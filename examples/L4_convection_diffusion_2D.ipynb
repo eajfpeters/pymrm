{
 "cells": [
  {
   "cell_type": "code",
   "execution_count": 41,
   "metadata": {},
   "outputs": [],
   "source": [
    "import math\n",
    "import numpy as np\n",
    "import matplotlib.pyplot as plt\n",
    "from scipy.sparse import diags_array, csc_array, eye_array\n",
    "import scipy.sparse.linalg as sla\n",
    "from pymrm import construct_grad, construct_div, construct_convflux_upwind, interp_cntr_to_stagg_tvd, minmod, newton\n",
    "from IPython.display import clear_output, display"
   ]
  },
  {
   "cell_type": "code",
   "execution_count": 42,
   "metadata": {},
   "outputs": [],
   "source": [
    "class ConvectionDiffusionReaction:\n",
    "    def __init__(self):\n",
    "        self.D_ax = 0.0\n",
    "        self.v = 1.0\n",
    "        self.L = 1.0\n",
    "        self.D_rad = 1e-2\n",
    "        self.R = 0.1\n",
    "        self.num_z = 50\n",
    "        self.num_r = 30\n",
    "        self.bc_ax = {'a':[self.D_ax,1],'b':[self.v,0], 'd':[self.v,0]}\n",
    "        self.bc_rad = {'a':[1,0],'b':[0,1], 'd':[0,0]}\n",
    "        self.k = 0.0\n",
    "        self.dt = 0.01\n",
    "        self.z_f = np.linspace(0,self.L,self.num_z+1)\n",
    "        self.z_c = 0.5*(self.z_f[0:-1]+self.z_f[1:])\n",
    "        self.r_f = np.linspace(0,self.R,self.num_r+1)\n",
    "        self.r_c = 0.5*(self.r_f[0:-1]+self.r_f[1:])\n",
    "        self.init_field()\n",
    "        self.init_Jac()\n",
    "        self.freq_out = 10\n",
    "    \n",
    "    def init_field(self, c0=0.0):\n",
    "        self.c = np.full((self.num_z,self.num_r),c0, dtype='float')\n",
    "    \n",
    "    def init_Jac(self):\n",
    "        Jac_accum = (1.0/self.dt)*eye_array(self.num_z*self.num_r,format='csc')\n",
    "        Jac_react = self.k*eye_array(self.num_z*self.num_r,format='csc')\n",
    "        Grad, grad_bc = construct_grad(self.c.shape, self.z_f, self.z_c, self.bc_ax, axis=0)\n",
    "        Conv, conv_bc = construct_convflux_upwind(self.c.shape, self.z_f, self.z_c, self.bc_ax, self.v, axis=0)\n",
    "        self.Div_ax = construct_div(self.c.shape, self.z_f, nu=0, axis=0)   \n",
    "        self.Flux_ax = Conv - self.D_ax * Grad\n",
    "        self.flux_ax_bc = conv_bc - self.D_ax * grad_bc\n",
    "        self.g_const = self.Div_ax @ self.flux_ax_bc\n",
    "        self.Jac_const = Jac_accum + self.Div_ax@self.Flux_ax + Jac_react\n",
    "        Grad, grad_bc = construct_grad(self.c.shape, self.r_f, self.r_c, self.bc_rad, axis=1)\n",
    "        Div_rad = construct_div(self.c.shape, self.r_f, nu=1, axis=1)   \n",
    "        self.Flux_rad = - self.D_rad * Grad\n",
    "        self.flux_rad_bc = - self.D_rad * grad_bc\n",
    "        self.g_const += Div_rad @ self.flux_rad_bc\n",
    "        self.Jac_const += Div_rad@self.Flux_rad        \n",
    "            \n",
    "    def construct_Jac(self, c, c_old):\n",
    "        c_f , dc_f= interp_cntr_to_stagg_tvd(self.c, self.z_f, self.z_c, self.bc_ax, self.v, minmod, axis=0)\n",
    "        dg_conv = self.Div_ax @ (self.v*dc_f).reshape((-1,1))\n",
    "        g = self.g_const + self.Jac_const @ c.reshape((-1,1)) + dg_conv - c_old.reshape((-1,1))/self.dt\n",
    "        Jac = self.Jac_const\n",
    "        return g,Jac\n",
    "        \n",
    "    def set_k(self, k):\n",
    "        self.k = k\n",
    "        self.init_Jac()\n",
    "             \n",
    "    def solve(self, num_timesteps):\n",
    "        self.plot_pre()          \n",
    "        Jac = self.Jac_const\n",
    "        for i in range(num_timesteps):\n",
    "            c_old = self.c.copy()        \n",
    "            result = newton(lambda c: self.construct_Jac(c, c_old), c_old, maxfev=1)\n",
    "            self.c = result.x\n",
    "            if (i % self.freq_out == 0):\n",
    "                self.plot()\n",
    "    \n",
    "    def plot_pre(self):\n",
    "        self.fig, self.ax = plt.subplots()\n",
    "        self.contour = self.ax.pcolormesh(self.r_f, self.z_f, self.c, shading='flat', cmap='viridis', vmin=0, vmax=1)\n",
    "        plt.colorbar(self.contour)\n",
    "        self.ax.set_xlabel('r')\n",
    "        self.ax.set_ylabel('x')\n",
    "        \n",
    "    def plot(self):\n",
    "        clear_output(wait=True)\n",
    "        self.contour.set_array(self.c)\n",
    "        display(self.fig)\n",
    "        plt.show()"
   ]
  },
  {
   "cell_type": "code",
   "execution_count": 43,
   "metadata": {},
   "outputs": [
    {
     "data": {
      "image/png": "[encoded data removed]",
      "text/plain": [
       "<Figure size 640x480 with 2 Axes>"
      ]
     },
     "metadata": {},
     "output_type": "display_data"
    }
   ],
   "source": [
    "mrm_problem = ConvectionDiffusionReaction()\n",
    "mrm_problem.init_Jac()\n",
    "mrm_problem.solve(100)"
   ]
  }
 ],
 "metadata": {
  "kernelspec": {
   "display_name": "mrm",
   "language": "python",
   "name": "python3"
  },
  "language_info": {
   "codemirror_mode": {
    "name": "ipython",
    "version": 3
   },
   "file_extension": ".py",
   "mimetype": "text/x-python",
   "name": "python",
   "nbconvert_exporter": "python",
   "pygments_lexer": "ipython3",
   "version": "3.12.3"
  }
 },
 "nbformat": 4,
 "nbformat_minor": 2
}
