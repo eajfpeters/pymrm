{
 "cells": [
  {
   "cell_type": "code",
   "execution_count": 140,
   "id": "ef5c3f13-e54a-4884-85ce-387c2b2ed739",
   "metadata": {},
   "outputs": [],
   "source": [
    "import importlib\n",
    "import numpy as np\n",
    "from scipy.sparse import csr_matrix\n",
    "import pyMRM\n",
    "importlib.reload(pyMRM)\n",
    "from pyMRM import *"
   ]
  },
  {
   "cell_type": "code",
   "execution_count": 112,
   "id": "3cf0586e-5a91-4d73-a4d0-c0f07a2ae7b3",
   "metadata": {},
   "outputs": [],
   "source": [
    "import math"
   ]
  },
  {
   "cell_type": "code",
   "execution_count": 119,
   "id": "07d622b1-821a-47aa-a729-2030d63ac1f0",
   "metadata": {},
   "outputs": [
    {
     "data": {
      "text/plain": [
       "(10,)"
      ]
     },
     "execution_count": 120,
     "metadata": {},
     "output_type": "execute_result"
    }
   ],
   "source": [
    "x_c.shape"
   ]
  },
  {
   "cell_type": "code",
   "execution_count": 141,
   "id": "dacd218a-91ce-467d-8aca-25d8a9265768",
   "metadata": {},
   "outputs": [
    {
     "ename": "TypeError",
     "evalue": "'numpy.float64' object does not support item assignment",
     "output_type": "error",
     "traceback": [
      "\u001b[1;31m---------------------------------------------------------------------------\u001b[0m",
      "\u001b[1;31mTypeError\u001b[0m                                 Traceback (most recent call last)",
      "File \u001b[1;32mD:\\Users\\eajfpeters\\Codes\\PyMRM\\testMRM.py:17\u001b[0m\n\u001b[0;32m     10\u001b[0m bc \u001b[38;5;241m=\u001b[39m {\n\u001b[0;32m     11\u001b[0m     \u001b[38;5;124m'\u001b[39m\u001b[38;5;124ma\u001b[39m\u001b[38;5;124m'\u001b[39m: [\u001b[38;5;241m1\u001b[39m, \u001b[38;5;241m2\u001b[39m],\n\u001b[0;32m     12\u001b[0m     \u001b[38;5;124m'\u001b[39m\u001b[38;5;124mb\u001b[39m\u001b[38;5;124m'\u001b[39m: [\u001b[38;5;241m3\u001b[39m, \u001b[38;5;241m4\u001b[39m],\n\u001b[0;32m     13\u001b[0m     \u001b[38;5;124m'\u001b[39m\u001b[38;5;124md\u001b[39m\u001b[38;5;124m'\u001b[39m: [\u001b[38;5;241m5\u001b[39m, \u001b[38;5;241m6\u001b[39m]\n\u001b[0;32m     14\u001b[0m }\n\u001b[0;32m     16\u001b[0m \u001b[38;5;66;03m# Call the function\u001b[39;00m\n\u001b[1;32m---> 17\u001b[0m Grad, grad_bc \u001b[38;5;241m=\u001b[39m \u001b[43mconstruct_grad\u001b[49m\u001b[43m(\u001b[49m\u001b[43mdim\u001b[49m\u001b[43m,\u001b[49m\u001b[43m \u001b[49m\u001b[43msz\u001b[49m\u001b[43m,\u001b[49m\u001b[43m \u001b[49m\u001b[43mx_c\u001b[49m\u001b[43m,\u001b[49m\u001b[43m \u001b[49m\u001b[43mx_f\u001b[49m\u001b[43m,\u001b[49m\u001b[43m \u001b[49m\u001b[43mbc\u001b[49m\u001b[43m)\u001b[49m\n\u001b[0;32m     19\u001b[0m \u001b[38;5;66;03m# Print the result\u001b[39;00m\n\u001b[0;32m     20\u001b[0m \u001b[38;5;28mprint\u001b[39m(\u001b[38;5;124m\"\u001b[39m\u001b[38;5;124mGrad matrix:\u001b[39m\u001b[38;5;124m\"\u001b[39m)\n",
      "File \u001b[1;32mD:\\Users\\eajfpeters\\Codes\\PyMRM\\pyMRM.py:65\u001b[0m, in \u001b[0;36mconstruct_grad\u001b[1;34m(dim, sz, x_c, x_f, bc)\u001b[0m\n\u001b[0;32m     63\u001b[0m b \u001b[38;5;241m=\u001b[39m bc[\u001b[38;5;124m'\u001b[39m\u001b[38;5;124mb\u001b[39m\u001b[38;5;124m'\u001b[39m][\u001b[38;5;241m0\u001b[39m] \u001b[38;5;241m/\u001b[39m alpha_0\n\u001b[0;32m     64\u001b[0m fctr \u001b[38;5;241m=\u001b[39m \u001b[38;5;241m1\u001b[39m \u001b[38;5;241m/\u001b[39m (bc[\u001b[38;5;124m'\u001b[39m\u001b[38;5;124ma\u001b[39m\u001b[38;5;124m'\u001b[39m][\u001b[38;5;241m0\u001b[39m] \u001b[38;5;241m+\u001b[39m b)\n\u001b[1;32m---> 65\u001b[0m fctr[\u001b[38;5;241m~\u001b[39mnp\u001b[38;5;241m.\u001b[39misfinite(fctr)] \u001b[38;5;241m=\u001b[39m \u001b[38;5;241m0\u001b[39m\n\u001b[0;32m     66\u001b[0m b_fctr \u001b[38;5;241m=\u001b[39m b \u001b[38;5;241m*\u001b[39m fctr\n\u001b[0;32m     67\u001b[0m b_fctr \u001b[38;5;241m=\u001b[39m b_fctr \u001b[38;5;241m+\u001b[39m np\u001b[38;5;241m.\u001b[39mzeros(sz_bc)\n",
      "\u001b[1;31mTypeError\u001b[0m: 'numpy.float64' object does not support item assignment"
     ]
    }
   ],
   "source": [
    "run testMRM"
   ]
  },
  {
   "cell_type": "code",
   "execution_count": 136,
   "id": "a8dd286a-16f7-4a71-bd17-d9360b679d56",
   "metadata": {},
   "outputs": [],
   "source": [
    "a= 1.01*np.arange(4)"
   ]
  },
  {
   "cell_type": "code",
   "execution_count": 137,
   "id": "1c07bfdd-0640-40be-8ff5-d38a5b75709e",
   "metadata": {},
   "outputs": [
    {
     "data": {
      "text/plain": [
       "array([0.  , 1.01, 2.02, 3.03])"
      ]
     },
     "execution_count": 137,
     "metadata": {},
     "output_type": "execute_result"
    }
   ],
   "source": [
    "a"
   ]
  },
  {
   "cell_type": "code",
   "execution_count": 138,
   "id": "969d9788-763b-4ce5-a363-f71c7c0c59fb",
   "metadata": {},
   "outputs": [],
   "source": [
    "a[np.isfinite(a)] = 0"
   ]
  },
  {
   "cell_type": "code",
   "execution_count": 139,
   "id": "3d4cffc9-cac8-4654-8ed8-52b7e4475d98",
   "metadata": {},
   "outputs": [
    {
     "data": {
      "text/plain": [
       "array([0., 0., 0., 0.])"
      ]
     },
     "execution_count": 139,
     "metadata": {},
     "output_type": "execute_result"
    }
   ],
   "source": [
    "a"
   ]
  },
  {
   "cell_type": "code",
   "execution_count": null,
   "id": "95f85931-e29c-47ea-80b4-2154e5f56075",
   "metadata": {},
   "outputs": [],
   "source": []
  }
 ],
 "metadata": {
  "kernelspec": {
   "display_name": "Python 3 (ipykernel)",
   "language": "python",
   "name": "python3"
  },
  "language_info": {
   "codemirror_mode": {
    "name": "ipython",
    "version": 3
   },
   "file_extension": ".py",
   "mimetype": "text/x-python",
   "name": "python",
   "nbconvert_exporter": "python",
   "pygments_lexer": "ipython3",
   "version": "3.9.13"
  }
 },
 "nbformat": 4,
 "nbformat_minor": 5
}
